{
  "nbformat": 4,
  "nbformat_minor": 0,
  "metadata": {
    "colab": {
      "name": "ICAIML-project-ngrams.ipynb",
      "provenance": []
    },
    "kernelspec": {
      "name": "python3",
      "display_name": "Python 3"
    },
    "language_info": {
      "name": "python"
    }
  },
  "cells": [
    {
      "cell_type": "code",
      "execution_count": 3,
      "metadata": {
        "colab": {
          "base_uri": "https://localhost:8080/"
        },
        "id": "_Lt6F4trlKv6",
        "outputId": "756b0b2a-cb85-4839-8bcb-412c4f4d1823"
      },
      "outputs": [
        {
          "output_type": "stream",
          "name": "stdout",
          "text": [
            "Mounted at /content/drive\n"
          ]
        }
      ],
      "source": [
        "from google.colab import drive\n",
        "drive.mount('/content/drive')"
      ]
    },
    {
      "cell_type": "code",
      "source": [
        "import numpy as np\n",
        "import os\n",
        "import matplotlib as mpl\n",
        "import pandas as pd\n",
        "import matplotlib.pyplot as plt\n",
        "import seaborn as sns\n",
        "import datetime as dt\n",
        "import spacy\n",
        "\n",
        "from sklearn.model_selection import train_test_split\n",
        "from sklearn.feature_extraction.text import CountVectorizer\n",
        "from sklearn.naive_bayes import MultinomialNB\n",
        "from sklearn.metrics import classification_report\n",
        "from sklearn.model_selection import GridSearchCV\n",
        "\n",
        "plt.rcParams['figure.figsize'] = (8, 8)"
      ],
      "metadata": {
        "id": "WTi7nr6zlpCX"
      },
      "execution_count": 1,
      "outputs": []
    },
    {
      "cell_type": "code",
      "source": [
        "flipkart_df = pd.read_csv(\"/content/drive/Shareddrives/projects_data/Sentiment-Analysis/Datasets/processed/flipkart_reviews_processed.csv\").dropna()\n",
        "amazon_df = pd.read_csv(\"/content/drive/Shareddrives/projects_data/Sentiment-Analysis/Datasets/processed/amazon_reviews_processed.csv\").dropna()"
      ],
      "metadata": {
        "id": "0h1Y30fDUf3l"
      },
      "execution_count": 21,
      "outputs": []
    },
    {
      "cell_type": "code",
      "source": [
        "X_train, X_test, y_train, y_test = amazon_df[\"Reviews\"], flipkart_df[\"Reviews\"], amazon_df[\"Rating\"], flipkart_df[\"Rating\"]\n",
        "\n",
        "for gram in range(1,4):\n",
        "  ng_vectorizer = CountVectorizer(ngram_range=(1, gram))\n",
        "  X_train_ng = ng_vectorizer.fit_transform(X_train)\n",
        "  X_test_ng = ng_vectorizer.transform(X_test)\n",
        "\n",
        "\n",
        "  clf_ng = MultinomialNB()\n",
        "\n",
        "  grid_params = {\n",
        "  'alpha': np.linspace(0.5, 1.5, 5),\n",
        "  'fit_prior': [True, False],  \n",
        "  }\n",
        "\n",
        "  clf = GridSearchCV(clf_ng, grid_params)\n",
        "  clf.fit(X_train_ng, y_train)\n",
        "\n",
        "  accuracy = clf.score(X_test_ng, y_test)\n",
        "  y_pred = clf.predict(X_test_ng)\n",
        "  print(\"best_params %s\"%clf.best_params_)\n",
        "  print(\"Number of features is %s, Accuracy for %s-gram is %s\" %(X_train_ng.shape[1], gram, accuracy))\n",
        "  print(classification_report(y_test, y_pred))"
      ],
      "metadata": {
        "colab": {
          "base_uri": "https://localhost:8080/"
        },
        "id": "WelFM3rnYWEy",
        "outputId": "d88c98f6-71b8-4b15-dcdc-eec0ba02b36f"
      },
      "execution_count": 24,
      "outputs": [
        {
          "output_type": "stream",
          "name": "stdout",
          "text": [
            "best_params {'alpha': 1.0, 'fit_prior': True}\n",
            "Number of features is 88280, Accuracy for 1-gram is 0.6057432539808664\n",
            "              precision    recall  f1-score   support\n",
            "\n",
            "           1       0.58      0.62      0.60     15221\n",
            "           2       0.16      0.01      0.02      5871\n",
            "           3       0.26      0.04      0.07     11063\n",
            "           4       0.35      0.13      0.18     26141\n",
            "           5       0.64      0.93      0.76     67556\n",
            "\n",
            "    accuracy                           0.61    125852\n",
            "   macro avg       0.40      0.35      0.33    125852\n",
            "weighted avg       0.52      0.61      0.53    125852\n",
            "\n",
            "best_params {'alpha': 0.75, 'fit_prior': True}\n",
            "Number of features is 1544246, Accuracy for 2-gram is 0.6070622636112258\n",
            "              precision    recall  f1-score   support\n",
            "\n",
            "           1       0.60      0.63      0.62     15221\n",
            "           2       0.21      0.00      0.00      5871\n",
            "           3       0.29      0.01      0.03     11063\n",
            "           4       0.33      0.08      0.13     26141\n",
            "           5       0.63      0.96      0.76     67556\n",
            "\n",
            "    accuracy                           0.61    125852\n",
            "   macro avg       0.41      0.34      0.31    125852\n",
            "weighted avg       0.51      0.61      0.51    125852\n",
            "\n",
            "best_params {'alpha': 0.75, 'fit_prior': True}\n",
            "Number of features is 4820742, Accuracy for 3-gram is 0.6006658614880971\n",
            "              precision    recall  f1-score   support\n",
            "\n",
            "           1       0.63      0.57      0.60     15221\n",
            "           2       0.15      0.00      0.00      5871\n",
            "           3       0.34      0.01      0.01     11063\n",
            "           4       0.34      0.04      0.07     26141\n",
            "           5       0.60      0.97      0.75     67556\n",
            "\n",
            "    accuracy                           0.60    125852\n",
            "   macro avg       0.41      0.32      0.29    125852\n",
            "weighted avg       0.51      0.60      0.49    125852\n",
            "\n"
          ]
        }
      ]
    }
  ]
}